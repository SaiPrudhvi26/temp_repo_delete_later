{
 "cells": [
  {
   "cell_type": "markdown",
   "metadata": {},
   "source": [
    "\n",
    "    data types:\n",
    "        - int \n",
    "        - string \n",
    "        - float\n",
    "        - bool\n",
    "\n",
    "    loops\n",
    "        - for \n",
    "        - while\n",
    "\n",
    "    data strcutres:\n",
    "        - list\n",
    "        - dictionary\n",
    "        - set\n",
    "        - tuple\n",
    "\n",
    "    funtions\n",
    "    control strcutres:\n",
    "        - if \n",
    "        - if else\n",
    "        - if elif else\n",
    "    scopes:\n",
    "        - local\n",
    "        - nonlocal\n",
    "        - global\n",
    "\n"
   ]
  },
  {
   "cell_type": "code",
   "execution_count": 52,
   "metadata": {},
   "outputs": [],
   "source": [
    "# string methods:\n",
    "\n",
    "email = \"nk@gmail.com\""
   ]
  },
  {
   "cell_type": "code",
   "execution_count": 17,
   "metadata": {},
   "outputs": [
    {
     "name": "stdout",
     "output_type": "stream",
     "text": [
      "invalid\n"
     ]
    }
   ],
   "source": [
    "if \"mail\" in a :\n",
    "    print(\"valid email\")\n",
    "else:\n",
    "    print(\"invalid\")\n"
   ]
  },
  {
   "cell_type": "code",
   "execution_count": 61,
   "metadata": {},
   "outputs": [
    {
     "data": {
      "text/plain": [
       "['where are you', '']"
      ]
     },
     "execution_count": 61,
     "metadata": {},
     "output_type": "execute_result"
    }
   ],
   "source": [
    "s = \"  where are you?    \"\n",
    "\n",
    "s = s.strip()\n",
    "s.split(\"?\")\n"
   ]
  },
  {
   "cell_type": "code",
   "execution_count": 62,
   "metadata": {},
   "outputs": [
    {
     "data": {
      "text/plain": [
       "'Where Are You?'"
      ]
     },
     "execution_count": 62,
     "metadata": {},
     "output_type": "execute_result"
    }
   ],
   "source": [
    "s.title()"
   ]
  },
  {
   "cell_type": "code",
   "execution_count": 59,
   "metadata": {},
   "outputs": [
    {
     "data": {
      "text/plain": [
       "'100:'"
      ]
     },
     "execution_count": 59,
     "metadata": {},
     "output_type": "execute_result"
    }
   ],
   "source": [
    "userinput= \"0100:\"\n",
    "userinput.strip(\"0\")"
   ]
  },
  {
   "cell_type": "code",
   "execution_count": 58,
   "metadata": {},
   "outputs": [
    {
     "data": {
      "text/plain": [
       "True"
      ]
     },
     "execution_count": 58,
     "metadata": {},
     "output_type": "execute_result"
    }
   ],
   "source": [
    "email.startswith(\"nk\")\n",
    "email.endswith(\".com\")\n",
    "\n"
   ]
  },
  {
   "cell_type": "markdown",
   "metadata": {},
   "source": []
  },
  {
   "cell_type": "code",
   "execution_count": 163,
   "metadata": {},
   "outputs": [],
   "source": [
    "a = [9, 'ch', True, 22.2]\n",
    "a.append('r')\n",
    "a\n",
    "# last_item = a.pop(1)\n",
    "a.remove('ch')\n",
    "b = a.copy()\n"
   ]
  },
  {
   "cell_type": "code",
   "execution_count": 178,
   "metadata": {},
   "outputs": [
    {
     "data": {
      "text/plain": [
       "[1, 13, 21, 88]"
      ]
     },
     "execution_count": 178,
     "metadata": {},
     "output_type": "execute_result"
    }
   ],
   "source": [
    "l = [1, 21, 13, 88]\n",
    "reversed_list = reversed(l)\n",
    "\n",
    "# reversed -> function\n",
    "# reverse -> method \n",
    "sorted(l)"
   ]
  },
  {
   "cell_type": "code",
   "execution_count": 177,
   "metadata": {},
   "outputs": [
    {
     "data": {
      "text/plain": [
       "[1, 13, 21, 88]"
      ]
     },
     "execution_count": 177,
     "metadata": {},
     "output_type": "execute_result"
    }
   ],
   "source": [
    "l"
   ]
  },
  {
   "cell_type": "code",
   "execution_count": 170,
   "metadata": {},
   "outputs": [
    {
     "data": {
      "text/plain": [
       "[88, 13, 21, 1]"
      ]
     },
     "execution_count": 170,
     "metadata": {},
     "output_type": "execute_result"
    }
   ],
   "source": [
    "l"
   ]
  },
  {
   "cell_type": "code",
   "execution_count": 74,
   "metadata": {},
   "outputs": [
    {
     "name": "stdout",
     "output_type": "stream",
     "text": [
      "lsit is empty\n"
     ]
    }
   ],
   "source": [
    "if b:\n",
    "    print(len(b))\n",
    "else:\n",
    "    print(\"lsit is empty\")"
   ]
  },
  {
   "cell_type": "code",
   "execution_count": 84,
   "metadata": {},
   "outputs": [
    {
     "data": {
      "text/plain": [
       "(1, 2, 3, 2)"
      ]
     },
     "execution_count": 84,
     "metadata": {},
     "output_type": "execute_result"
    }
   ],
   "source": [
    "sett = {1, 2, 3, 2}\n",
    "len(sett)\n",
    "\n",
    "l = [1, 2, 3, 2]\n",
    "l.append(4)\n",
    "t = (1, 2, 3, 2)\n"
   ]
  },
  {
   "cell_type": "code",
   "execution_count": 127,
   "metadata": {},
   "outputs": [
    {
     "name": "stdout",
     "output_type": "stream",
     "text": [
      "[9, 5, 0, 2, 2, 7, 6, 0, 9, 5]\n",
      "[9, 9, 7, 6, 5, 5, 2, 2, 0, 0]\n",
      "{0, 2, 5, 6, 7, 9}\n"
     ]
    }
   ],
   "source": [
    "a = [9,5, 0, 2, 2, 7, 6, 0, 9, 5]\n",
    "print(a)\n",
    "print(list(reversed(sorted(a))))\n",
    "print(set(a))"
   ]
  },
  {
   "cell_type": "code",
   "execution_count": 85,
   "metadata": {},
   "outputs": [
    {
     "name": "stdout",
     "output_type": "stream",
     "text": [
      "[1, 2, 3, 2, 4]\n"
     ]
    }
   ],
   "source": [
    "print(l)"
   ]
  },
  {
   "cell_type": "markdown",
   "metadata": {},
   "source": [
    "    \n",
    "    python:\n",
    "        dynamically typed language\n",
    "        doesn't have to mention the type of the data we are storing in a variable\n",
    "\n",
    "    iterable: iterable is any object that can looped upon\n",
    "    list:\n",
    "        - used to store multiple values\n",
    "        - can be of different data types\n",
    "        - mutable (once created, can be altered)\n",
    "        - duplicates are allowed\n",
    "        - created using [] or list function\n",
    "        ex:\n",
    "            a = [1, 2, 1]\n",
    "\n",
    "        methods:\n",
    "            append -> adds item to the end of the list\n",
    "            insert -> adds to the given index and moves all other items to the right\n",
    "            pop -> by default pops the last item, if index is provided, pops item from given index\n",
    "            remove -> accepts value of the item to be removed form the list\n",
    "            \n",
    "    \n",
    "    tuple:\n",
    "        - used to store multiple values\n",
    "        - can be of different data types\n",
    "        - immutable (once created, can not be altered)\n",
    "        - duplicates are allowed\n",
    "        - created using () or tuple function\n",
    "        ex: \n",
    "            t = (1, 2, 1)\n",
    "    set: \n",
    "        - used to store multiple values\n",
    "        - can be a different data types\n",
    "        - mutable\n",
    "        - duplicates are not allowed\n",
    "        - creted using {} or set function\n",
    "        ex: \n",
    "            s = {1, 2, 1} # but stores as {1, 2}\n",
    "\n",
    "    dictionary:\n",
    "        - used to store key, value pairs\n",
    "        - key, value pairs are separated by comma (,)\n",
    "        - keys should be unique\n",
    "        - mutable\n",
    "        - created using {} or dict function\n",
    "        - dict.keys() -> returns all the keys\n",
    "        - dict.vlaues() -> returns all the vlaues"
   ]
  },
  {
   "cell_type": "code",
   "execution_count": 94,
   "metadata": {},
   "outputs": [],
   "source": [
    "# dictionaries\n",
    "\n",
    "d = {\"name\": \"nandu\", \"age\": 25}"
   ]
  },
  {
   "cell_type": "code",
   "execution_count": 104,
   "metadata": {},
   "outputs": [
    {
     "data": {
      "text/plain": [
       "['name', 'age']"
      ]
     },
     "execution_count": 104,
     "metadata": {},
     "output_type": "execute_result"
    }
   ],
   "source": [
    "list(d.keys())"
   ]
  },
  {
   "cell_type": "code",
   "execution_count": 107,
   "metadata": {},
   "outputs": [
    {
     "data": {
      "text/plain": [
       "['nandu', 25]"
      ]
     },
     "execution_count": 107,
     "metadata": {},
     "output_type": "execute_result"
    }
   ],
   "source": [
    "list(d.values())"
   ]
  },
  {
   "cell_type": "code",
   "execution_count": 129,
   "metadata": {},
   "outputs": [
    {
     "data": {
      "text/plain": [
       "True"
      ]
     },
     "execution_count": 129,
     "metadata": {},
     "output_type": "execute_result"
    }
   ],
   "source": [
    "'name' in d"
   ]
  },
  {
   "cell_type": "code",
   "execution_count": 95,
   "metadata": {},
   "outputs": [
    {
     "data": {
      "text/plain": [
       "25"
      ]
     },
     "execution_count": 95,
     "metadata": {},
     "output_type": "execute_result"
    }
   ],
   "source": [
    "d['age']"
   ]
  },
  {
   "cell_type": "code",
   "execution_count": 184,
   "metadata": {},
   "outputs": [
    {
     "name": "stdout",
     "output_type": "stream",
     "text": [
      "0\n",
      "5\n"
     ]
    }
   ],
   "source": [
    "for i in range(0, 10, 5):\n",
    "    print(i)"
   ]
  },
  {
   "cell_type": "code",
   "execution_count": 189,
   "metadata": {},
   "outputs": [
    {
     "name": "stdout",
     "output_type": "stream",
     "text": [
      "h\n",
      "a\n",
      "p\n",
      "p\n",
      "y\n",
      " \n",
      "b\n",
      "i\n",
      "r\n",
      "t\n",
      "h\n",
      "d\n",
      "a\n",
      "y\n"
     ]
    }
   ],
   "source": [
    "for ch in \"happy birthday\":\n",
    "    print(ch)"
   ]
  },
  {
   "cell_type": "code",
   "execution_count": 198,
   "metadata": {},
   "outputs": [
    {
     "name": "stdout",
     "output_type": "stream",
     "text": [
      "nandu\n",
      "24\n"
     ]
    }
   ],
   "source": [
    "d = {\"name\": \"nandu\", \"age\": 24}\n",
    "for value in d.values():\n",
    "    print(value)"
   ]
  },
  {
   "cell_type": "code",
   "execution_count": 204,
   "metadata": {},
   "outputs": [
    {
     "name": "stdout",
     "output_type": "stream",
     "text": [
      "0\n",
      "1\n",
      "2\n",
      "3\n",
      "4\n",
      "5\n",
      "6\n",
      "7\n",
      "8\n",
      "9\n"
     ]
    }
   ],
   "source": [
    "i = 0\n",
    "\n",
    "while i < 10:\n",
    "    print(i)\n",
    "    i += 1\n",
    "    "
   ]
  },
  {
   "cell_type": "code",
   "execution_count": null,
   "metadata": {},
   "outputs": [],
   "source": [
    "i += 1 #-> i++\n",
    "i -= 1 #-> i--"
   ]
  }
 ],
 "metadata": {
  "kernelspec": {
   "display_name": "Python 3",
   "language": "python",
   "name": "python3"
  },
  "language_info": {
   "codemirror_mode": {
    "name": "ipython",
    "version": 3
   },
   "file_extension": ".py",
   "mimetype": "text/x-python",
   "name": "python",
   "nbconvert_exporter": "python",
   "pygments_lexer": "ipython3",
   "version": "3.11.4"
  },
  "orig_nbformat": 4
 },
 "nbformat": 4,
 "nbformat_minor": 2
}
